{
 "cells": [
  {
   "cell_type": "code",
   "execution_count": null,
   "metadata": {
    "collapsed": true
   },
   "outputs": [],
   "source": [
    "%matplotlib inline\n",
    "import matplotlib.pyplot as plt\n",
    "import openmc\n",
    "\n",
    "import os\n",
    "import numpy as np"
   ]
  },
  {
   "cell_type": "code",
   "execution_count": null,
   "metadata": {},
   "outputs": [],
   "source": [
    "#Initial starting source, uniform in fuel only\n",
    "bounds = [-0.4, -0.4, -0.4, 0.4, 0.4, 0.4]\n",
    "uniform_dist = openmc.stats.Box(bounds[:3], bounds[3:], only_fissionable=True)"
   ]
  },
  {
   "cell_type": "code",
   "execution_count": null,
   "metadata": {
    "collapsed": true
   },
   "outputs": [],
   "source": [
    "settings = openmc.Settings()\n",
    "settings.source = openmc.source.Source(space=uniform_dist)\n",
    "settings.batches = 100\n",
    "settings.inactive = 25  # keep this at a min of 25, this is the number of power iterations performed, more is always better\n",
    "settings.particles = 1000  # increase this number to make your results more accurate\n",
    "settings.temperature = {'tolerance':10000,'multipole':True}\n",
    "#settings.temperature = {'method':'interpolation','multipole':True}"
   ]
  },
  {
   "cell_type": "code",
   "execution_count": null,
   "metadata": {
    "collapsed": true
   },
   "outputs": [],
   "source": [
    "settings.export_to_xml()"
   ]
  },
  {
   "cell_type": "code",
   "execution_count": null,
   "metadata": {},
   "outputs": [],
   "source": [
    "pitch = [1.05, 1.25, 1.45]\n",
    "boron = [0]\n",
    "nt = len(pitch)\n",
    "nb = len(boron)\n",
    "temp1 = 900  #fuel temp\n",
    "temp2 = 600  #mod temp\n",
    "k = np.zeros([nt,nb])\n",
    "for m in range(nb):\n",
    "    for j in range(nt):\n",
    "        uo2 = openmc.Material(1,\"fuel\",temperature=temp1)\n",
    "        uo2.add_element('U', 1.0, enrichment=4.0)\n",
    "        uo2.add_element('O', 2.0)\n",
    "        uo2.set_density('g/cc', 10.0)\n",
    "        zirconium = openmc.Material(2, \"zirconium\", temperature=temp2)\n",
    "        zirconium.add_element('Zr', 1.0)\n",
    "        zirconium.set_density('g/cm3', 6.6)\n",
    "        #this function creates borated light water, for other moderators you will need to replace\n",
    "        water = openmc.model.borated_water(boron_ppm=boron[m], temperature=600,pressure=15)\n",
    "        mats = openmc.Materials([uo2, zirconium, water])\n",
    "        mats.export_to_xml()\n",
    "        fuel_or = openmc.ZCylinder(R=0.39)\n",
    "        clad_ir = openmc.ZCylinder(R=0.40)\n",
    "        clad_or = openmc.ZCylinder(R=0.46)\n",
    "        fuel_region = -fuel_or\n",
    "        gap_region = +fuel_or & -clad_ir\n",
    "        clad_region = +clad_ir & -clad_or\n",
    "        fuel = openmc.Cell(1, 'fuel')\n",
    "        fuel.fill = uo2\n",
    "        fuel.region = fuel_region\n",
    "        gap = openmc.Cell(2, 'air gap')\n",
    "        gap.region = gap_region\n",
    "        clad = openmc.Cell(3, 'clad')\n",
    "        clad.fill = zirconium\n",
    "        clad.region = clad_region\n",
    "        box = openmc.get_rectangular_prism(width=pitch[j], height=pitch[j],\n",
    "                                   boundary_type='reflective')\n",
    "        water_region = box & +clad_or\n",
    "        moderator = openmc.Cell(4, 'moderator')\n",
    "        moderator.fill = water\n",
    "        moderator.region = water_region\n",
    "        root = openmc.Universe(cells=(fuel, gap, clad, moderator))\n",
    "        geom = openmc.Geometry(root)\n",
    "        geom.export_to_xml()\n",
    "        cell_filter = openmc.CellFilter([fuel,gap, clad, moderator])\n",
    "        #tallies over 2 energy groups with 4 eV being thermal bound\n",
    "        energy_filter = openmc.EnergyFilter([0., 4.0, 20.0e6])\n",
    "        t = openmc.Tally(1)\n",
    "        t.filters = [cell_filter, energy_filter]\n",
    "        # these are the main reaction rates you should need\n",
    "        t.scores = ['absorption','nu-fission','fission']\n",
    "        tallies = openmc.Tallies([t])\n",
    "        tallies.export_to_xml()\n",
    "        openmc.run()\n",
    "        #make sure the number in this file name matches the number of cycles you are running!!!\n",
    "        sp = openmc.StatePoint('statepoint.100.h5')\n",
    "        # this reads the tally with all reaction rates, not just absorption\n",
    "        tally = sp.get_tally(scores=['absorption'])\n",
    "        # this is the final k-effective of the simulation\n",
    "        k[j,m] = sp.k_combined[0]\n",
    "        os.remove('statepoint.100.h5')\n",
    "        os.remove('summary.h5')\n",
    "        del sp"
   ]
  },
  {
   "cell_type": "code",
   "execution_count": null,
   "metadata": {},
   "outputs": [],
   "source": [
    "print(k)"
   ]
  },
  {
   "cell_type": "code",
   "execution_count": null,
   "metadata": {},
   "outputs": [],
   "source": [
    "plt.figure(figsize=(20,10))\n",
    "plt.plot(pitch,k[:,0], linewidth=10)\n",
    "plt.legend(['0ppm Boron'], fontsize=30)\n",
    "plt.xlabel('Pitch', fontsize=30)\n",
    "plt.ylabel('k', fontsize=30)\n",
    "plt.xticks(fontsize=24)\n",
    "plt.yticks(fontsize=24)"
   ]
  }
 ],
 "metadata": {
  "anaconda-cloud": {},
  "kernelspec": {
   "display_name": "Python 3",
   "language": "python",
   "name": "python3"
  },
  "language_info": {
   "codemirror_mode": {
    "name": "ipython",
    "version": 3
   },
   "file_extension": ".py",
   "mimetype": "text/x-python",
   "name": "python",
   "nbconvert_exporter": "python",
   "pygments_lexer": "ipython3",
   "version": "3.5.2"
  }
 },
 "nbformat": 4,
 "nbformat_minor": 1
}
